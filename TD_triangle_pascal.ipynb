{
 "cells": [
  {
   "cell_type": "markdown",
   "metadata": {},
   "source": [
    "NOM :  prénom :"
   ]
  },
  {
   "cell_type": "markdown",
   "metadata": {},
   "source": [
    "# Coefficients binomiaux"
   ]
  },
  {
   "cell_type": "markdown",
   "metadata": {},
   "source": [
    "## Listes"
   ]
  },
  {
   "cell_type": "markdown",
   "metadata": {},
   "source": [
    "Une __liste__ est un type d'objet en Python qui contient d'autres objets Python dans un ordre donné. Exemple :"
   ]
  },
  {
   "cell_type": "code",
   "execution_count": null,
   "metadata": {},
   "outputs": [],
   "source": [
    "a=[1,4,'abc',4.5]\n",
    "print(a)\n"
   ]
  },
  {
   "cell_type": "code",
   "execution_count": null,
   "metadata": {},
   "outputs": [],
   "source": [
    "print(a[0])\n",
    "print(a[2])"
   ]
  },
  {
   "cell_type": "markdown",
   "metadata": {},
   "source": [
    "Comme on peut l'observer `a[0]` est le premier élément de la liste. Il existe plusieurs fonctions qui s'appliquent sur les listes dont :\n",
    "- `len`: qui renvoie la longueur de la liste ;\n",
    "- `append` : qui ajoute un élément à la fn de la liste ;"
   ]
  },
  {
   "cell_type": "code",
   "execution_count": null,
   "metadata": {},
   "outputs": [],
   "source": [
    "print('la liste a comporte',len(a),'éléments')\n",
    "a.append(20)\n",
    "print(a)\n",
    "print('la liste a comporte maintenant',len(a),'éléments')"
   ]
  },
  {
   "cell_type": "markdown",
   "metadata": {},
   "source": [
    "On utilise fréquement la fonction `range()` pour générer des listes d'entiers, comme on peut le voir dans l'exemple ci-dessous :\n",
    " - `list(range(3))` retourne la liste des entiers succéssifs de 0 à 2 (il y a 3 éléments) ;\n",
    " - `list(range(3,10))` retourne la liste des entiers succéssifs de 3 à 9 (il y a 7 éléments) ;\n",
    " - `list(range(1,11,2))` retourne la liste des entiers compris entre 1 et 10 avec un pas de 2.\n",
    "\n",
    "_Remarque_ : `range()`ne retourne pas directement un objet du type liste, on utilise donc la fonction `list()` pour obtenir la liste souhaitée."
   ]
  },
  {
   "cell_type": "code",
   "execution_count": null,
   "metadata": {},
   "outputs": [],
   "source": [
    "a=list(range(0))\n",
    "b=list(range(3,10))\n",
    "c=list(range(1,11,2))\n",
    "print(a)\n",
    "print(b)\n",
    "print(c)"
   ]
  },
  {
   "cell_type": "markdown",
   "metadata": {},
   "source": [
    "## Calcul de coefficients binomiaux"
   ]
  },
  {
   "cell_type": "markdown",
   "metadata": {},
   "source": [
    "**Objectif :** on va essayer de voir s'il est plus rapide de calculer un coefficient binomial donné en utilisant la formule de récurrence du triangle de Pascal ou en utilisant la formule explicite vue en complément de cours.\n",
    "__________________________________________________"
   ]
  },
  {
   "cell_type": "markdown",
   "metadata": {},
   "source": [
    "### Calcul avec la formule de Pascal\n",
    "On va commencer par créer une fonction qui prend comme argument un entier $n$ et qui affiche les $n+1$ premières lignes du **_triangle de Pascal_**  sous forme de listes successives ($n+1$ lignes). Cette fonction ne \"retourne\" aucune valeur, elle ne fait qu'exécuter des commandes dont les affichages par la fonction `print`."
   ]
  },
  {
   "cell_type": "markdown",
   "metadata": {},
   "source": [
    "Une fonction commence toujours par `def nom_fonction(argument1, argument2, ...) :` suivi du bloc de code correspondant qui sera  décalé d'une indentation vers la droite. Dans cette fonction on utilise deux boucles `for` qui ont chacune leur bloc de code décalé d'une **indentation** supplémentaire vers la droite. "
   ]
  },
  {
   "cell_type": "code",
   "execution_count": null,
   "metadata": {},
   "outputs": [],
   "source": [
    "def tri_pascal(n) :\n",
    "    a = [1] # on crée un première liste a\n",
    "    b = [1] # on crée une seconde liste b qui servira à déterminer la ligne suivante à partir de la liste a\n",
    "    print(a) # on affiche la liste a\n",
    "    for i in range(n) : #on crée n nouvelles lignes \n",
    "        for j in range() : # Complète la fonction range pour avoir le bon nombre d'itérations\n",
    "            b.append() # Complète en utilisant la relation de récurrence du Triangle de Pascal (calcul à partir des éléments de la liste a)\n",
    "        b.append(1) \n",
    "        a=b #  a prend les valeurs de la nouvelle ligne\n",
    "        b=[1] # On réinitialise la liste b\n",
    "        print(a) # On affiche la nouvelle ligne\n",
    "            "
   ]
  },
  {
   "cell_type": "markdown",
   "metadata": {},
   "source": [
    "Utilise la fonction complétée pour faire afficher un triangle de Pascal jusqu'à la ligne 7."
   ]
  },
  {
   "cell_type": "code",
   "execution_count": null,
   "metadata": {},
   "outputs": [],
   "source": [
    "tri_pascal() #Complète avec le bon argument dans la fonction tri_pascal()"
   ]
  },
  {
   "cell_type": "markdown",
   "metadata": {},
   "source": [
    "**On va maintenant écrire une première fonction calculant un coefficient binomial :**"
   ]
  },
  {
   "cell_type": "markdown",
   "metadata": {},
   "source": [
    "L'objectif est donc de programmer une fonction qui prend comme paramètre n et k et qui renvoie le coefficient binomial $\\begin{pmatrix} n \\\\ k \\end{pmatrix}$."
   ]
  },
  {
   "cell_type": "markdown",
   "metadata": {},
   "source": [
    "La première méthode consiste à extraire le bon élèment dans la bonne ligne du triangle de Pascal. Pour cela, on peut reprendre la fonction `tri_Pascal` mais au lieu de faire afficher chaque ligne, on la modifie pour qu'elle retourne le bon élèment de la dernière ligne calculée :"
   ]
  },
  {
   "cell_type": "code",
   "execution_count": null,
   "metadata": {},
   "outputs": [],
   "source": [
    "def coeff_binomial_long(n,k) :\n",
    "    a = [1]\n",
    "    b = [1]\n",
    "    for i in range(n) : \n",
    "        for j in range() :  # Complète la fonction range pour avoir le bon nombre d'itérations\n",
    "            b.append() # Complète en utilisant la relation de récurrence du Triangle de Pascal\n",
    "        b.append(1)\n",
    "        a=b\n",
    "        b=[1]\n",
    "    return a[]# complète pour renvoyer le bon élément de la liste a\n",
    "coeff_binomial_long(,) # complète les arguments pour tester la fonction"
   ]
  },
  {
   "cell_type": "markdown",
   "metadata": {},
   "source": [
    "**Optimisation de l'algorithme :**\n",
    "\n",
    "Cette méthode fait beaucoup trop de calculs. Lorsqu'on \"remonte\" le triangle de Pascal pour voir comment est obtenu un élément donné, on constate en effet qu'on n'utilise pas tous les éléments des lignes antérieures. On peut donc chercher à améliorer la méthode en calculant uniquement les élèments du triangle de Pascal nécessaires à l'obtention du coefficient binomial cherché :\n",
    "\n",
    "*Avant d'essayer de compléter cet algorithme, analyse la situation au brouillon en entourant dans le triangle de Pascal les coefficient nécessaire au calcul de $\\begin{pmatrix} 7 \\\\ 3 \\end{pmatrix}$.*"
   ]
  },
  {
   "cell_type": "code",
   "execution_count": null,
   "metadata": {},
   "outputs": [],
   "source": [
    "def coeff_binomial_rapide(n,k) :\n",
    "    k = min(k,n-k) # On utilise la symétrie du triangle de Pascal pour calculer la valeur de la première moitié de la ligne\n",
    "    a = [1]\n",
    "    for i in range(1,n+1) : # i représente le numéro de la ligne que l'on va déterminer, ici il varie de 1 à n\n",
    "        if i<= : # complète le test pour qui corresponde au nombre de fois où a est une ligne complète\n",
    "            b=[1]\n",
    "            for j in range() : # Complète la fonction range pour avoir le bon nombre d'itérations\n",
    "                b.append() # Complète en utilisant la relation de récurrence du Triangle de Pascal\n",
    "            b.append(1)\n",
    "            a=b\n",
    "        elif i<=n-k : # complète le test pour qui correspond au nombre de fois où a est une ligne sans ajout de 1 à la fin\n",
    "            b=[1]\n",
    "            for j in range() : # Complète la fonction range pour avoir le bon nombre d'itérations\n",
    "                b.append() # Complète en utilisant la relation de récurrence du Triangle de Pascal\n",
    "            a=b\n",
    "        else :\n",
    "            b=[] # Dans cette dernière étape, la nouvelle ligne ne commence pas par 1 mais par le premier élément calculé\n",
    "            for j in range() : # Complète la fonction range pour avoir le bon nombre d'itérations\n",
    "                b.append() # Complète en utilisant la relation de récurrence du Triangle de Pascal\n",
    "            a=b\n",
    "    return a[0]\n",
    "            "
   ]
  },
  {
   "cell_type": "markdown",
   "metadata": {},
   "source": [
    "On peut tester cette fonction avec des paramètres assez grands, par exemple pour calculer $\\begin{pmatrix} 10~000 \\\\ 800 \\end{pmatrix}$ :"
   ]
  },
  {
   "cell_type": "code",
   "execution_count": null,
   "metadata": {},
   "outputs": [],
   "source": [
    "coeff_binomial_rapide(,) # complète les arguments pour tester la fonction"
   ]
  },
  {
   "cell_type": "markdown",
   "metadata": {},
   "source": [
    "En faisant le même calcul avec la version non améliorée, on voit que c'est beaucoup plus long..."
   ]
  },
  {
   "cell_type": "code",
   "execution_count": null,
   "metadata": {},
   "outputs": [],
   "source": [
    "coeff_binomial_long(,) # complète les arguments pour tester la fonction"
   ]
  },
  {
   "cell_type": "markdown",
   "metadata": {},
   "source": [
    "______________________________________________\n",
    "\n",
    "### Détermination d'un coefficient binomial grâce à la formule explicite"
   ]
  },
  {
   "cell_type": "markdown",
   "metadata": {},
   "source": [
    "Complète la fonction `coeff_explicite(n,k)` pour déterminer le coefficient binomial $\\begin{pmatrix} n \\\\ k \\end{pmatrix}$ en utilisant la formule :\n",
    "<center> $\\begin{pmatrix} n \\\\ k \\end{pmatrix}=\\dfrac{n\\times(n-1)\\times\\cdots(n-k+1)}{k!}$ </center>\n",
    "Pour cela, tu va calculer le numérateur dans la variable `num` grâce à une boucle `for`, puis le dénominateur dans la variable `denom` également grâce à une boucle `for`. Enfn, la fonction retourne le quotient de la division euclidienne de `num`par `denom`."
   ]
  },
  {
   "cell_type": "code",
   "execution_count": null,
   "metadata": {},
   "outputs": [],
   "source": [
    "def coeff_explicite(n,k) :\n",
    "    num = n\n",
    "    denom = k\n",
    "    for i in range(1,k) :\n",
    "        num = num*(n-i)\n",
    "        denom=denom*(k-i)\n",
    "    \n",
    "    \n",
    "    return num // denom"
   ]
  },
  {
   "cell_type": "markdown",
   "metadata": {},
   "source": [
    "Tu peux tester les fonctions `coeff_explicite` et `coeff_binomial_long`. On constate que la version avec la formule explicite est bien plus rapide."
   ]
  },
  {
   "cell_type": "code",
   "execution_count": null,
   "metadata": {},
   "outputs": [],
   "source": [
    "coeff_explicite(,) # complète les arguments pour tester la fonction"
   ]
  },
  {
   "cell_type": "markdown",
   "metadata": {},
   "source": [
    "## Conclusion :"
   ]
  },
  {
   "cell_type": "markdown",
   "metadata": {},
   "source": [
    "Sur les essais faits précédemment, on peut conclure que"
   ]
  },
  {
   "cell_type": "markdown",
   "metadata": {},
   "source": [
    "## Question subsidiaire"
   ]
  },
  {
   "cell_type": "markdown",
   "metadata": {},
   "source": [
    "En utilisant une des fonctions définie ci-dessus détermine combien il y a de chiffres dans le nombre $\\begin{pmatrix} 10~000 \\\\ 800 \\end{pmatrix}$.\n",
    "\n",
    "*Il te faudra utiliser une fonction importée du module `math` en faisant `from math import ...`.*"
   ]
  },
  {
   "cell_type": "code",
   "execution_count": null,
   "metadata": {},
   "outputs": [],
   "source": []
  },
  {
   "cell_type": "code",
   "execution_count": null,
   "metadata": {},
   "outputs": [],
   "source": []
  }
 ],
 "metadata": {
  "kernelspec": {
   "display_name": "Python 3",
   "language": "python",
   "name": "python3"
  },
  "language_info": {
   "codemirror_mode": {
    "name": "ipython",
    "version": 3
   },
   "file_extension": ".py",
   "mimetype": "text/x-python",
   "name": "python",
   "nbconvert_exporter": "python",
   "pygments_lexer": "ipython3",
   "version": "3.6.5"
  }
 },
 "nbformat": 4,
 "nbformat_minor": 2
}
